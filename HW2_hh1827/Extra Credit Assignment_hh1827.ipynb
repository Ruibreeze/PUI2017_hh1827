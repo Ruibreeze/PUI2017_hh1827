{
 "cells": [
  {
   "cell_type": "code",
   "execution_count": 13,
   "metadata": {
    "collapsed": true
   },
   "outputs": [],
   "source": [
    "import csv\n",
    "import datetime as dt\n",
    "import pandas as pd\n",
    "import numpy as np\n",
    "import os\n",
    "import matplotlib.pyplot as plt\n",
    "import matplotlib.dates as mdate\n",
    "import datetime"
   ]
  },
  {
   "cell_type": "code",
   "execution_count": 2,
   "metadata": {
    "collapsed": false
   },
   "outputs": [
    {
     "data": {
      "text/plain": [
       "'/gws/open/NYCOpenData/nycopendata/data'"
      ]
     },
     "execution_count": 2,
     "metadata": {},
     "output_type": "execute_result"
    }
   ],
   "source": [
    "os.getenv(\"DFDATA\")"
   ]
  },
  {
   "cell_type": "code",
   "execution_count": 4,
   "metadata": {
    "collapsed": false,
    "scrolled": true
   },
   "outputs": [],
   "source": [
    "df = pd.read_csv(os.getenv(\"DFDATA\")+\"/./b295-zu6t/1476458677/b295-zu6t.csv\")"
   ]
  },
  {
   "cell_type": "code",
   "execution_count": 5,
   "metadata": {
    "collapsed": false
   },
   "outputs": [
    {
     "data": {
      "text/html": [
       "<div>\n",
       "<table border=\"1\" class=\"dataframe\">\n",
       "  <thead>\n",
       "    <tr style=\"text-align: right;\">\n",
       "      <th></th>\n",
       "      <th>Ticket Number</th>\n",
       "      <th>Violation Date</th>\n",
       "      <th>Violation Time</th>\n",
       "      <th>Issuing Agency</th>\n",
       "      <th>Respondent Last Name</th>\n",
       "      <th>Respondent First Name</th>\n",
       "      <th>Balance Due</th>\n",
       "      <th>Violation Location (Borough)</th>\n",
       "      <th>Violation Location (Block No.)</th>\n",
       "      <th>Violation Location (Lot No.)</th>\n",
       "      <th>...</th>\n",
       "      <th>Charge #8: Code Description</th>\n",
       "      <th>Charge #8: Infraction Amount</th>\n",
       "      <th>Charge #9: Code</th>\n",
       "      <th>Charge #9: Code Section</th>\n",
       "      <th>Charge #9: Code Description</th>\n",
       "      <th>Charge #9: Infraction Amount</th>\n",
       "      <th>Charge #10: Code</th>\n",
       "      <th>Charge #10: Code Section</th>\n",
       "      <th>Charge #10: Code Description</th>\n",
       "      <th>Charge #10: Infraction Amount</th>\n",
       "    </tr>\n",
       "  </thead>\n",
       "  <tbody>\n",
       "    <tr>\n",
       "      <th>0</th>\n",
       "      <td>012049691Z</td>\n",
       "      <td>12/30/2015</td>\n",
       "      <td>13:18:00</td>\n",
       "      <td>FIRE DEPARTMENT OF NYC</td>\n",
       "      <td>ONE WEST 190TH ST</td>\n",
       "      <td>NaN</td>\n",
       "      <td>$0.00</td>\n",
       "      <td>BRONX</td>\n",
       "      <td>3201.0</td>\n",
       "      <td>56.0</td>\n",
       "      <td>...</td>\n",
       "      <td>NaN</td>\n",
       "      <td>NaN</td>\n",
       "      <td>NaN</td>\n",
       "      <td>NaN</td>\n",
       "      <td>NaN</td>\n",
       "      <td>NaN</td>\n",
       "      <td>NaN</td>\n",
       "      <td>NaN</td>\n",
       "      <td>NaN</td>\n",
       "      <td>NaN</td>\n",
       "    </tr>\n",
       "    <tr>\n",
       "      <th>1</th>\n",
       "      <td>012049727L</td>\n",
       "      <td>01/02/2016</td>\n",
       "      <td>05:20:00</td>\n",
       "      <td>FIRE DEPARTMENT OF NYC</td>\n",
       "      <td>THE BOARD OF MANAGERS OF THE 9</td>\n",
       "      <td>50 WESTCHESTER</td>\n",
       "      <td>$0.00</td>\n",
       "      <td>BRONX</td>\n",
       "      <td>2703.0</td>\n",
       "      <td>7501.0</td>\n",
       "      <td>...</td>\n",
       "      <td>NaN</td>\n",
       "      <td>NaN</td>\n",
       "      <td>NaN</td>\n",
       "      <td>NaN</td>\n",
       "      <td>NaN</td>\n",
       "      <td>NaN</td>\n",
       "      <td>NaN</td>\n",
       "      <td>NaN</td>\n",
       "      <td>NaN</td>\n",
       "      <td>NaN</td>\n",
       "    </tr>\n",
       "    <tr>\n",
       "      <th>2</th>\n",
       "      <td>012049820X</td>\n",
       "      <td>01/05/2016</td>\n",
       "      <td>07:34:00</td>\n",
       "      <td>FIRE DEPARTMENT OF NYC</td>\n",
       "      <td>GREENHOPE CANDACE HDFC</td>\n",
       "      <td>NaN</td>\n",
       "      <td>$5000.00</td>\n",
       "      <td>MANHATTAN</td>\n",
       "      <td>1807.0</td>\n",
       "      <td>15.0</td>\n",
       "      <td>...</td>\n",
       "      <td>NaN</td>\n",
       "      <td>NaN</td>\n",
       "      <td>NaN</td>\n",
       "      <td>NaN</td>\n",
       "      <td>NaN</td>\n",
       "      <td>NaN</td>\n",
       "      <td>NaN</td>\n",
       "      <td>NaN</td>\n",
       "      <td>NaN</td>\n",
       "      <td>NaN</td>\n",
       "    </tr>\n",
       "    <tr>\n",
       "      <th>3</th>\n",
       "      <td>012049863X</td>\n",
       "      <td>01/06/2016</td>\n",
       "      <td>08:30:00</td>\n",
       "      <td>FIRE DEPARTMENT OF NYC</td>\n",
       "      <td>THE BOARD OF MANAGERS OF UNION</td>\n",
       "      <td>SQUARE EAST CONDO</td>\n",
       "      <td>$0.00</td>\n",
       "      <td>MANHATTAN</td>\n",
       "      <td>870.0</td>\n",
       "      <td>7501.0</td>\n",
       "      <td>...</td>\n",
       "      <td>NaN</td>\n",
       "      <td>NaN</td>\n",
       "      <td>NaN</td>\n",
       "      <td>NaN</td>\n",
       "      <td>NaN</td>\n",
       "      <td>NaN</td>\n",
       "      <td>NaN</td>\n",
       "      <td>NaN</td>\n",
       "      <td>NaN</td>\n",
       "      <td>NaN</td>\n",
       "    </tr>\n",
       "    <tr>\n",
       "      <th>4</th>\n",
       "      <td>011455786Z</td>\n",
       "      <td>02/22/2016</td>\n",
       "      <td>10:30:00</td>\n",
       "      <td>FIRE DEPARTMENT OF NYC</td>\n",
       "      <td>NY PUBLIC LIBRARY</td>\n",
       "      <td>037</td>\n",
       "      <td>$0.00</td>\n",
       "      <td>BRONX</td>\n",
       "      <td>5141.0</td>\n",
       "      <td>100.0</td>\n",
       "      <td>...</td>\n",
       "      <td>NaN</td>\n",
       "      <td>NaN</td>\n",
       "      <td>NaN</td>\n",
       "      <td>NaN</td>\n",
       "      <td>NaN</td>\n",
       "      <td>NaN</td>\n",
       "      <td>NaN</td>\n",
       "      <td>NaN</td>\n",
       "      <td>NaN</td>\n",
       "      <td>NaN</td>\n",
       "    </tr>\n",
       "  </tbody>\n",
       "</table>\n",
       "<p>5 rows × 78 columns</p>\n",
       "</div>"
      ],
      "text/plain": [
       "  Ticket Number Violation Date Violation Time          Issuing Agency  \\\n",
       "0    012049691Z     12/30/2015       13:18:00  FIRE DEPARTMENT OF NYC   \n",
       "1    012049727L     01/02/2016       05:20:00  FIRE DEPARTMENT OF NYC   \n",
       "2    012049820X     01/05/2016       07:34:00  FIRE DEPARTMENT OF NYC   \n",
       "3    012049863X     01/06/2016       08:30:00  FIRE DEPARTMENT OF NYC   \n",
       "4    011455786Z     02/22/2016       10:30:00  FIRE DEPARTMENT OF NYC   \n",
       "\n",
       "             Respondent Last Name Respondent First Name Balance Due  \\\n",
       "0               ONE WEST 190TH ST                   NaN       $0.00   \n",
       "1  THE BOARD OF MANAGERS OF THE 9        50 WESTCHESTER       $0.00   \n",
       "2          GREENHOPE CANDACE HDFC                   NaN    $5000.00   \n",
       "3  THE BOARD OF MANAGERS OF UNION     SQUARE EAST CONDO       $0.00   \n",
       "4               NY PUBLIC LIBRARY                   037       $0.00   \n",
       "\n",
       "  Violation Location (Borough)  Violation Location (Block No.)  \\\n",
       "0                        BRONX                          3201.0   \n",
       "1                        BRONX                          2703.0   \n",
       "2                    MANHATTAN                          1807.0   \n",
       "3                    MANHATTAN                           870.0   \n",
       "4                        BRONX                          5141.0   \n",
       "\n",
       "   Violation Location (Lot No.)              ...               \\\n",
       "0                          56.0              ...                \n",
       "1                        7501.0              ...                \n",
       "2                          15.0              ...                \n",
       "3                        7501.0              ...                \n",
       "4                         100.0              ...                \n",
       "\n",
       "  Charge #8: Code Description Charge #8: Infraction Amount  Charge #9: Code  \\\n",
       "0                         NaN                          NaN              NaN   \n",
       "1                         NaN                          NaN              NaN   \n",
       "2                         NaN                          NaN              NaN   \n",
       "3                         NaN                          NaN              NaN   \n",
       "4                         NaN                          NaN              NaN   \n",
       "\n",
       "  Charge #9: Code Section Charge #9: Code Description  \\\n",
       "0                     NaN                         NaN   \n",
       "1                     NaN                         NaN   \n",
       "2                     NaN                         NaN   \n",
       "3                     NaN                         NaN   \n",
       "4                     NaN                         NaN   \n",
       "\n",
       "  Charge #9: Infraction Amount Charge #10: Code Charge #10: Code Section  \\\n",
       "0                          NaN              NaN                      NaN   \n",
       "1                          NaN              NaN                      NaN   \n",
       "2                          NaN              NaN                      NaN   \n",
       "3                          NaN              NaN                      NaN   \n",
       "4                          NaN              NaN                      NaN   \n",
       "\n",
       "  Charge #10: Code Description Charge #10: Infraction Amount  \n",
       "0                          NaN                           NaN  \n",
       "1                          NaN                           NaN  \n",
       "2                          NaN                           NaN  \n",
       "3                          NaN                           NaN  \n",
       "4                          NaN                           NaN  \n",
       "\n",
       "[5 rows x 78 columns]"
      ]
     },
     "execution_count": 5,
     "metadata": {},
     "output_type": "execute_result"
    }
   ],
   "source": [
    "df.head()"
   ]
  },
  {
   "cell_type": "code",
   "execution_count": 6,
   "metadata": {
    "collapsed": false
   },
   "outputs": [
    {
     "data": {
      "text/html": [
       "<div>\n",
       "<table border=\"1\" class=\"dataframe\">\n",
       "  <thead>\n",
       "    <tr style=\"text-align: right;\">\n",
       "      <th></th>\n",
       "      <th>Violation Location (Lot No.)</th>\n",
       "      <th>Violation Time</th>\n",
       "    </tr>\n",
       "  </thead>\n",
       "  <tbody>\n",
       "    <tr>\n",
       "      <th>0</th>\n",
       "      <td>56.0</td>\n",
       "      <td>13:18:00</td>\n",
       "    </tr>\n",
       "    <tr>\n",
       "      <th>1</th>\n",
       "      <td>7501.0</td>\n",
       "      <td>05:20:00</td>\n",
       "    </tr>\n",
       "    <tr>\n",
       "      <th>2</th>\n",
       "      <td>15.0</td>\n",
       "      <td>07:34:00</td>\n",
       "    </tr>\n",
       "    <tr>\n",
       "      <th>3</th>\n",
       "      <td>7501.0</td>\n",
       "      <td>08:30:00</td>\n",
       "    </tr>\n",
       "    <tr>\n",
       "      <th>4</th>\n",
       "      <td>100.0</td>\n",
       "      <td>10:30:00</td>\n",
       "    </tr>\n",
       "  </tbody>\n",
       "</table>\n",
       "</div>"
      ],
      "text/plain": [
       "   Violation Location (Lot No.) Violation Time\n",
       "0                          56.0       13:18:00\n",
       "1                        7501.0       05:20:00\n",
       "2                          15.0       07:34:00\n",
       "3                        7501.0       08:30:00\n",
       "4                         100.0       10:30:00"
      ]
     },
     "execution_count": 6,
     "metadata": {},
     "output_type": "execute_result"
    }
   ],
   "source": [
    "new_df = pd.DataFrame({\"Violation Time\":df[\"Violation Time\"],\n",
    "                      \"Violation Location (Lot No.)\": df[\"Violation Location (Lot No.)\"]})\n",
    "new_df.head()"
   ]
  },
  {
   "cell_type": "code",
   "execution_count": 15,
   "metadata": {
    "collapsed": false
   },
   "outputs": [
    {
     "ename": "ValueError",
     "evalue": "time data '24:00:00' does not match format '%H:%M:%S'",
     "output_type": "error",
     "traceback": [
      "\u001b[0;31m\u001b[0m",
      "\u001b[0;31mValueError\u001b[0mTraceback (most recent call last)",
      "\u001b[0;32m<ipython-input-15-93ccd10959b4>\u001b[0m in \u001b[0;36m<module>\u001b[0;34m()\u001b[0m\n\u001b[1;32m      1\u001b[0m \u001b[0mV_time\u001b[0m \u001b[0;34m=\u001b[0m \u001b[0mlist\u001b[0m\u001b[0;34m(\u001b[0m\u001b[0mnew_df\u001b[0m\u001b[0;34m[\u001b[0m\u001b[0;34m\"Violation Time\"\u001b[0m\u001b[0;34m]\u001b[0m\u001b[0;34m)\u001b[0m\u001b[0;34m\u001b[0m\u001b[0m\n\u001b[1;32m      2\u001b[0m \u001b[0mV_location\u001b[0m \u001b[0;34m=\u001b[0m \u001b[0mlist\u001b[0m\u001b[0;34m(\u001b[0m\u001b[0mnew_df\u001b[0m\u001b[0;34m[\u001b[0m\u001b[0;34m\"Violation Location (Lot No.)\"\u001b[0m\u001b[0;34m]\u001b[0m\u001b[0;34m)\u001b[0m\u001b[0;34m\u001b[0m\u001b[0m\n\u001b[0;32m----> 3\u001b[0;31m \u001b[0mx\u001b[0m \u001b[0;34m=\u001b[0m \u001b[0;34m[\u001b[0m\u001b[0mdt\u001b[0m\u001b[0;34m.\u001b[0m\u001b[0mdatetime\u001b[0m\u001b[0;34m.\u001b[0m\u001b[0mstrptime\u001b[0m\u001b[0;34m(\u001b[0m\u001b[0melem\u001b[0m\u001b[0;34m,\u001b[0m \u001b[0;34m'%H:%M:%S'\u001b[0m\u001b[0;34m)\u001b[0m \u001b[0;32mfor\u001b[0m \u001b[0melem\u001b[0m \u001b[0;32min\u001b[0m \u001b[0mV_time\u001b[0m\u001b[0;34m]\u001b[0m\u001b[0;34m\u001b[0m\u001b[0m\n\u001b[0m\u001b[1;32m      4\u001b[0m \u001b[0mplt\u001b[0m\u001b[0;34m.\u001b[0m\u001b[0mplot\u001b[0m\u001b[0;34m(\u001b[0m\u001b[0mx\u001b[0m\u001b[0;34m,\u001b[0m \u001b[0mV_location\u001b[0m\u001b[0;34m,\u001b[0m \u001b[0mrot\u001b[0m \u001b[0;34m=\u001b[0m \u001b[0;36m90\u001b[0m\u001b[0;34m)\u001b[0m\u001b[0;34m\u001b[0m\u001b[0m\n\u001b[1;32m      5\u001b[0m \u001b[0mplt\u001b[0m\u001b[0;34m.\u001b[0m\u001b[0mshow\u001b[0m\u001b[0;34m(\u001b[0m\u001b[0;34m)\u001b[0m\u001b[0;34m\u001b[0m\u001b[0m\n",
      "\u001b[0;32m/opt/rh/anaconda/root/envs/PUI2016_Python2/lib/python2.7/_strptime.pyc\u001b[0m in \u001b[0;36m_strptime\u001b[0;34m(data_string, format)\u001b[0m\n\u001b[1;32m    330\u001b[0m     \u001b[0;32mif\u001b[0m \u001b[0;32mnot\u001b[0m \u001b[0mfound\u001b[0m\u001b[0;34m:\u001b[0m\u001b[0;34m\u001b[0m\u001b[0m\n\u001b[1;32m    331\u001b[0m         raise ValueError(\"time data %r does not match format %r\" %\n\u001b[0;32m--> 332\u001b[0;31m                          (data_string, format))\n\u001b[0m\u001b[1;32m    333\u001b[0m     \u001b[0;32mif\u001b[0m \u001b[0mlen\u001b[0m\u001b[0;34m(\u001b[0m\u001b[0mdata_string\u001b[0m\u001b[0;34m)\u001b[0m \u001b[0;34m!=\u001b[0m \u001b[0mfound\u001b[0m\u001b[0;34m.\u001b[0m\u001b[0mend\u001b[0m\u001b[0;34m(\u001b[0m\u001b[0;34m)\u001b[0m\u001b[0;34m:\u001b[0m\u001b[0;34m\u001b[0m\u001b[0m\n\u001b[1;32m    334\u001b[0m         raise ValueError(\"unconverted data remains: %s\" %\n",
      "\u001b[0;31mValueError\u001b[0m: time data '24:00:00' does not match format '%H:%M:%S'"
     ]
    }
   ],
   "source": [
    "V_time = list(new_df[\"Violation Time\"])\n",
    "V_location = list(new_df[\"Violation Location (Lot No.)\"])\n",
    "x = [dt.datetime.strptime(elem, '%H:%M:%S') for elem in V_time]\n",
    "plt.plot(x, V_location, rot = 90)\n",
    "plt.show()"
   ]
  },
  {
   "cell_type": "code",
   "execution_count": null,
   "metadata": {
    "collapsed": true
   },
   "outputs": [],
   "source": []
  }
 ],
 "metadata": {
  "kernelspec": {
   "display_name": "PUI2016_Python2",
   "language": "python",
   "name": "pui2016_python2"
  },
  "language_info": {
   "codemirror_mode": {
    "name": "ipython",
    "version": 2
   },
   "file_extension": ".py",
   "mimetype": "text/x-python",
   "name": "python",
   "nbconvert_exporter": "python",
   "pygments_lexer": "ipython2",
   "version": "2.7.12"
  }
 },
 "nbformat": 4,
 "nbformat_minor": 0
}
